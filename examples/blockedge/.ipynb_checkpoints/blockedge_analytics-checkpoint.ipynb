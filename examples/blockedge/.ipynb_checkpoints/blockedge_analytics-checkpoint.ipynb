{
 "cells": [
  {
   "cell_type": "markdown",
   "id": "1c0a69e8",
   "metadata": {},
   "source": [
    "## Using blockedge API to do some basic waves analytics\n",
    "### https://www.blockedge.app\n",
    "#### Blockedge is a beta version search engine devised by MOBR Systems. With blockedge users can search their leywords on waves blockchain content\n",
    "\n",
    "#### Functions get and search_query will be the endpoints to use blockedge API"
   ]
  },
  {
   "cell_type": "code",
   "execution_count": 42,
   "id": "c84c40b2",
   "metadata": {},
   "outputs": [],
   "source": [
    "import requests, json\n",
    "\n",
    "BE_URL = \"https://www.blockedge.app\"\n",
    "timeout = 60 * 1000\n",
    "headers = {'accept': 'application/json', 'content-type': 'application/json'}\n",
    "\n",
    "def get(url:str) -> dict:\n",
    "    res = requests.get(url=url, timeout=timeout, headers=headers)\n",
    "    if res.status_code == 200:\n",
    "        rj = json.loads(res.json())\n",
    "        res.close()\n",
    "        if rj.get('error'):\n",
    "            print(rj)\n",
    "            return dict()\n",
    "\n",
    "        return rj\n",
    "\n",
    "    res.close()\n",
    "    return dict()\n",
    "\n",
    "def search_query(query:str, page:int=1) -> dict:\n",
    "    return get(f'{BE_URL}/search/waves/{query}/{page}')"
   ]
  },
  {
   "cell_type": "markdown",
   "id": "16329553",
   "metadata": {},
   "source": [
    "#### Let's consider a developer devising a poker dapp. To see if there is movement around the poker worlds in the waves blockchain, an intersting thing to do would be search for the \"poker\" keyword in the blocks' content:"
   ]
  },
  {
   "cell_type": "code",
   "execution_count": 43,
   "id": "54fb709c",
   "metadata": {},
   "outputs": [
    {
     "name": "stdout",
     "output_type": "stream",
     "text": [
      "number of ocurrences for 'poker': 167 in 42 blocks\n"
     ]
    }
   ],
   "source": [
    "query = 'poker'\n",
    "res = search_query(query)\n",
    "if res:\n",
    "    print (f\"number of ocurrences for '{query}': {res['ocurrences']} in {res['blocks']} blocks\")\n",
    "else:\n",
    "    print ('no records found')"
   ]
  },
  {
   "cell_type": "markdown",
   "id": "18c442b3",
   "metadata": {},
   "source": [
    "#### Now let's consider an investor wanting to know how many transactions were realized on waves"
   ]
  },
  {
   "cell_type": "code",
   "execution_count": 44,
   "id": "14d97400",
   "metadata": {},
   "outputs": [
    {
     "name": "stdout",
     "output_type": "stream",
     "text": [
      "number of transactions on waves: {'transactions': 333714}\n"
     ]
    }
   ],
   "source": [
    "query = 'count:transactions'\n",
    "res = search_query(query)\n",
    "if res:\n",
    "    print (f\"number of transactions on waves: {res['results']['count_res']}\")\n",
    "else:\n",
    "    print ('something wrong')"
   ]
  },
  {
   "cell_type": "markdown",
   "id": "1e33b249",
   "metadata": {},
   "source": [
    "#### However, a more interesting approach would be how is the number of transactions over time"
   ]
  },
  {
   "cell_type": "code",
   "execution_count": 45,
   "id": "d5c3fa35",
   "metadata": {},
   "outputs": [
    {
     "name": "stdout",
     "output_type": "stream",
     "text": [
      "   transactionCount      timestamp\n",
      "0                11  1669026696167\n",
      "1                 8  1669025676331\n",
      "2                 6  1669025424821\n",
      "3                 7  1669025086683\n",
      "4                27  1669024975085\n",
      "5                17  1669024781547\n",
      "6                46  1669024428383\n",
      "7                26  1669024126704\n",
      "8                23  1669024050504\n",
      "9                 2  1669023920916\n"
     ]
    }
   ],
   "source": [
    "import pandas as pd\n",
    "\n",
    "query = 'get:transactions,timestamp'\n",
    "res = search_query(query)\n",
    "if res:\n",
    "    table = res['results']['get_res']['recs']\n",
    "    headers = res['results']['get_res']['attrs']\n",
    "    df = pd.DataFrame(table, columns=headers)\n",
    "    print(df.head(10))\n",
    "else:\n",
    "    df = pd.DataFrame()\n",
    "    print ('something wrong')"
   ]
  },
  {
   "cell_type": "markdown",
   "id": "be68dea3",
   "metadata": {},
   "source": [
    "#### And visualizing all returned records, but aggregating transactions by week"
   ]
  },
  {
   "cell_type": "code",
   "execution_count": 56,
   "id": "4b1e4c0f",
   "metadata": {},
   "outputs": [
    {
     "data": {
      "text/html": [
       "        <script type=\"text/javascript\">\n",
       "        window.PlotlyConfig = {MathJaxConfig: 'local'};\n",
       "        if (window.MathJax && window.MathJax.Hub && window.MathJax.Hub.Config) {window.MathJax.Hub.Config({SVG: {font: \"STIX-Web\"}});}\n",
       "        if (typeof require !== 'undefined') {\n",
       "        require.undef(\"plotly\");\n",
       "        requirejs.config({\n",
       "            paths: {\n",
       "                'plotly': ['https://cdn.plot.ly/plotly-2.16.1.min']\n",
       "            }\n",
       "        });\n",
       "        require(['plotly'], function(Plotly) {\n",
       "            window._Plotly = Plotly;\n",
       "        });\n",
       "        }\n",
       "        </script>\n",
       "        "
      ]
     },
     "metadata": {},
     "output_type": "display_data"
    },
    {
     "data": {
      "application/vnd.plotly.v1+json": {
       "config": {
        "linkText": "Export to plot.ly",
        "plotlyServerURL": "https://plot.ly",
        "showLink": false
       },
       "data": [
        {
         "type": "bar",
         "x": [
          "2020-09-07",
          "2020-09-14",
          "2020-09-21",
          "2020-09-28",
          "2020-10-05",
          "2020-10-12",
          "2020-10-19",
          "2020-10-26",
          "2020-11-02",
          "2020-11-09",
          "2020-11-16",
          "2020-11-23",
          "2020-11-30",
          "2020-12-07",
          "2020-12-14",
          "2020-12-21",
          "2020-12-28",
          "2021-01-04",
          "2021-01-11",
          "2021-01-18",
          "2021-01-25",
          "2021-02-01",
          "2021-02-08",
          "2021-02-15",
          "2021-02-22",
          "2021-03-01",
          "2021-03-08",
          "2021-03-15",
          "2021-03-22",
          "2021-03-29",
          "2021-04-05",
          "2021-04-12",
          "2021-04-19",
          "2021-04-26",
          "2021-05-03",
          "2021-05-10",
          "2021-05-17",
          "2021-05-24",
          "2021-05-31",
          "2021-06-07",
          "2021-06-14",
          "2021-06-21",
          "2021-06-28",
          "2021-07-05",
          "2021-07-12",
          "2021-07-19",
          "2021-07-26",
          "2021-08-02",
          "2021-08-09",
          "2021-08-16",
          "2021-08-23",
          "2021-08-30",
          "2021-09-06",
          "2021-09-13",
          "2021-09-20",
          "2021-09-27",
          "2021-10-04",
          "2021-10-11",
          "2021-10-18",
          "2021-10-25",
          "2021-11-01",
          "2021-11-08",
          "2021-11-15",
          "2021-11-22",
          "2021-11-29",
          "2021-12-06",
          "2021-12-13",
          "2021-12-20",
          "2021-12-27",
          "2022-01-03",
          "2022-01-10",
          "2022-01-17",
          "2022-01-24",
          "2022-01-31",
          "2022-02-07",
          "2022-02-14",
          "2022-02-21",
          "2022-02-28",
          "2022-03-07",
          "2022-03-14",
          "2022-03-21",
          "2022-03-28",
          "2022-04-04",
          "2022-04-11",
          "2022-04-18",
          "2022-04-25",
          "2022-05-02",
          "2022-05-09",
          "2022-05-16",
          "2022-05-23",
          "2022-05-30",
          "2022-06-06",
          "2022-06-13",
          "2022-06-20",
          "2022-06-27",
          "2022-07-04",
          "2022-07-11",
          "2022-07-18",
          "2022-07-25",
          "2022-08-01",
          "2022-08-08",
          "2022-08-15",
          "2022-08-22",
          "2022-08-29",
          "2022-09-05",
          "2022-09-12",
          "2022-09-19",
          "2022-09-26",
          "2022-10-03",
          "2022-10-10",
          "2022-10-17",
          "2022-10-24",
          "2022-10-31",
          "2022-11-07",
          "2022-11-14",
          "2022-11-21"
         ],
         "y": [
          1977,
          2747,
          2129,
          2759,
          4670,
          3005,
          2666,
          2552,
          3370,
          2108,
          2332,
          2389,
          2334,
          2685,
          1858,
          2332,
          2153,
          3092,
          3602,
          2115,
          1809,
          2481,
          3519,
          2711,
          3583,
          2791,
          2522,
          2366,
          3196,
          2080,
          2734,
          2833,
          2198,
          2704,
          5078,
          2671,
          4419,
          3664,
          3626,
          2616,
          2688,
          3170,
          2979,
          2295,
          2182,
          2625,
          3222,
          2400,
          3173,
          2581,
          2134,
          2639,
          3529,
          2262,
          1958,
          2716,
          2074,
          3804,
          2336,
          2944,
          2783,
          2926,
          1763,
          3021,
          4135,
          2582,
          3432,
          2424,
          2423,
          2490,
          1711,
          3750,
          3869,
          2487,
          2761,
          2465,
          2635,
          2981,
          2839,
          2342,
          2089,
          2994,
          4106,
          3937,
          2176,
          2225,
          1838,
          4659,
          2791,
          2526,
          4184,
          1863,
          3696,
          3684,
          3476,
          2989,
          2288,
          3914,
          2642,
          2950,
          3092,
          2565,
          3149,
          2695,
          4325,
          2271,
          2552,
          3334,
          3134,
          3072,
          2948,
          2577,
          2501,
          5773,
          6404,
          295
         ]
        }
       ],
       "layout": {
        "template": {
         "data": {
          "bar": [
           {
            "error_x": {
             "color": "#2a3f5f"
            },
            "error_y": {
             "color": "#2a3f5f"
            },
            "marker": {
             "line": {
              "color": "#E5ECF6",
              "width": 0.5
             },
             "pattern": {
              "fillmode": "overlay",
              "size": 10,
              "solidity": 0.2
             }
            },
            "type": "bar"
           }
          ],
          "barpolar": [
           {
            "marker": {
             "line": {
              "color": "#E5ECF6",
              "width": 0.5
             },
             "pattern": {
              "fillmode": "overlay",
              "size": 10,
              "solidity": 0.2
             }
            },
            "type": "barpolar"
           }
          ],
          "carpet": [
           {
            "aaxis": {
             "endlinecolor": "#2a3f5f",
             "gridcolor": "white",
             "linecolor": "white",
             "minorgridcolor": "white",
             "startlinecolor": "#2a3f5f"
            },
            "baxis": {
             "endlinecolor": "#2a3f5f",
             "gridcolor": "white",
             "linecolor": "white",
             "minorgridcolor": "white",
             "startlinecolor": "#2a3f5f"
            },
            "type": "carpet"
           }
          ],
          "choropleth": [
           {
            "colorbar": {
             "outlinewidth": 0,
             "ticks": ""
            },
            "type": "choropleth"
           }
          ],
          "contour": [
           {
            "colorbar": {
             "outlinewidth": 0,
             "ticks": ""
            },
            "colorscale": [
             [
              0,
              "#0d0887"
             ],
             [
              0.1111111111111111,
              "#46039f"
             ],
             [
              0.2222222222222222,
              "#7201a8"
             ],
             [
              0.3333333333333333,
              "#9c179e"
             ],
             [
              0.4444444444444444,
              "#bd3786"
             ],
             [
              0.5555555555555556,
              "#d8576b"
             ],
             [
              0.6666666666666666,
              "#ed7953"
             ],
             [
              0.7777777777777778,
              "#fb9f3a"
             ],
             [
              0.8888888888888888,
              "#fdca26"
             ],
             [
              1,
              "#f0f921"
             ]
            ],
            "type": "contour"
           }
          ],
          "contourcarpet": [
           {
            "colorbar": {
             "outlinewidth": 0,
             "ticks": ""
            },
            "type": "contourcarpet"
           }
          ],
          "heatmap": [
           {
            "colorbar": {
             "outlinewidth": 0,
             "ticks": ""
            },
            "colorscale": [
             [
              0,
              "#0d0887"
             ],
             [
              0.1111111111111111,
              "#46039f"
             ],
             [
              0.2222222222222222,
              "#7201a8"
             ],
             [
              0.3333333333333333,
              "#9c179e"
             ],
             [
              0.4444444444444444,
              "#bd3786"
             ],
             [
              0.5555555555555556,
              "#d8576b"
             ],
             [
              0.6666666666666666,
              "#ed7953"
             ],
             [
              0.7777777777777778,
              "#fb9f3a"
             ],
             [
              0.8888888888888888,
              "#fdca26"
             ],
             [
              1,
              "#f0f921"
             ]
            ],
            "type": "heatmap"
           }
          ],
          "heatmapgl": [
           {
            "colorbar": {
             "outlinewidth": 0,
             "ticks": ""
            },
            "colorscale": [
             [
              0,
              "#0d0887"
             ],
             [
              0.1111111111111111,
              "#46039f"
             ],
             [
              0.2222222222222222,
              "#7201a8"
             ],
             [
              0.3333333333333333,
              "#9c179e"
             ],
             [
              0.4444444444444444,
              "#bd3786"
             ],
             [
              0.5555555555555556,
              "#d8576b"
             ],
             [
              0.6666666666666666,
              "#ed7953"
             ],
             [
              0.7777777777777778,
              "#fb9f3a"
             ],
             [
              0.8888888888888888,
              "#fdca26"
             ],
             [
              1,
              "#f0f921"
             ]
            ],
            "type": "heatmapgl"
           }
          ],
          "histogram": [
           {
            "marker": {
             "pattern": {
              "fillmode": "overlay",
              "size": 10,
              "solidity": 0.2
             }
            },
            "type": "histogram"
           }
          ],
          "histogram2d": [
           {
            "colorbar": {
             "outlinewidth": 0,
             "ticks": ""
            },
            "colorscale": [
             [
              0,
              "#0d0887"
             ],
             [
              0.1111111111111111,
              "#46039f"
             ],
             [
              0.2222222222222222,
              "#7201a8"
             ],
             [
              0.3333333333333333,
              "#9c179e"
             ],
             [
              0.4444444444444444,
              "#bd3786"
             ],
             [
              0.5555555555555556,
              "#d8576b"
             ],
             [
              0.6666666666666666,
              "#ed7953"
             ],
             [
              0.7777777777777778,
              "#fb9f3a"
             ],
             [
              0.8888888888888888,
              "#fdca26"
             ],
             [
              1,
              "#f0f921"
             ]
            ],
            "type": "histogram2d"
           }
          ],
          "histogram2dcontour": [
           {
            "colorbar": {
             "outlinewidth": 0,
             "ticks": ""
            },
            "colorscale": [
             [
              0,
              "#0d0887"
             ],
             [
              0.1111111111111111,
              "#46039f"
             ],
             [
              0.2222222222222222,
              "#7201a8"
             ],
             [
              0.3333333333333333,
              "#9c179e"
             ],
             [
              0.4444444444444444,
              "#bd3786"
             ],
             [
              0.5555555555555556,
              "#d8576b"
             ],
             [
              0.6666666666666666,
              "#ed7953"
             ],
             [
              0.7777777777777778,
              "#fb9f3a"
             ],
             [
              0.8888888888888888,
              "#fdca26"
             ],
             [
              1,
              "#f0f921"
             ]
            ],
            "type": "histogram2dcontour"
           }
          ],
          "mesh3d": [
           {
            "colorbar": {
             "outlinewidth": 0,
             "ticks": ""
            },
            "type": "mesh3d"
           }
          ],
          "parcoords": [
           {
            "line": {
             "colorbar": {
              "outlinewidth": 0,
              "ticks": ""
             }
            },
            "type": "parcoords"
           }
          ],
          "pie": [
           {
            "automargin": true,
            "type": "pie"
           }
          ],
          "scatter": [
           {
            "fillpattern": {
             "fillmode": "overlay",
             "size": 10,
             "solidity": 0.2
            },
            "type": "scatter"
           }
          ],
          "scatter3d": [
           {
            "line": {
             "colorbar": {
              "outlinewidth": 0,
              "ticks": ""
             }
            },
            "marker": {
             "colorbar": {
              "outlinewidth": 0,
              "ticks": ""
             }
            },
            "type": "scatter3d"
           }
          ],
          "scattercarpet": [
           {
            "marker": {
             "colorbar": {
              "outlinewidth": 0,
              "ticks": ""
             }
            },
            "type": "scattercarpet"
           }
          ],
          "scattergeo": [
           {
            "marker": {
             "colorbar": {
              "outlinewidth": 0,
              "ticks": ""
             }
            },
            "type": "scattergeo"
           }
          ],
          "scattergl": [
           {
            "marker": {
             "colorbar": {
              "outlinewidth": 0,
              "ticks": ""
             }
            },
            "type": "scattergl"
           }
          ],
          "scattermapbox": [
           {
            "marker": {
             "colorbar": {
              "outlinewidth": 0,
              "ticks": ""
             }
            },
            "type": "scattermapbox"
           }
          ],
          "scatterpolar": [
           {
            "marker": {
             "colorbar": {
              "outlinewidth": 0,
              "ticks": ""
             }
            },
            "type": "scatterpolar"
           }
          ],
          "scatterpolargl": [
           {
            "marker": {
             "colorbar": {
              "outlinewidth": 0,
              "ticks": ""
             }
            },
            "type": "scatterpolargl"
           }
          ],
          "scatterternary": [
           {
            "marker": {
             "colorbar": {
              "outlinewidth": 0,
              "ticks": ""
             }
            },
            "type": "scatterternary"
           }
          ],
          "surface": [
           {
            "colorbar": {
             "outlinewidth": 0,
             "ticks": ""
            },
            "colorscale": [
             [
              0,
              "#0d0887"
             ],
             [
              0.1111111111111111,
              "#46039f"
             ],
             [
              0.2222222222222222,
              "#7201a8"
             ],
             [
              0.3333333333333333,
              "#9c179e"
             ],
             [
              0.4444444444444444,
              "#bd3786"
             ],
             [
              0.5555555555555556,
              "#d8576b"
             ],
             [
              0.6666666666666666,
              "#ed7953"
             ],
             [
              0.7777777777777778,
              "#fb9f3a"
             ],
             [
              0.8888888888888888,
              "#fdca26"
             ],
             [
              1,
              "#f0f921"
             ]
            ],
            "type": "surface"
           }
          ],
          "table": [
           {
            "cells": {
             "fill": {
              "color": "#EBF0F8"
             },
             "line": {
              "color": "white"
             }
            },
            "header": {
             "fill": {
              "color": "#C8D4E3"
             },
             "line": {
              "color": "white"
             }
            },
            "type": "table"
           }
          ]
         },
         "layout": {
          "annotationdefaults": {
           "arrowcolor": "#2a3f5f",
           "arrowhead": 0,
           "arrowwidth": 1
          },
          "autotypenumbers": "strict",
          "coloraxis": {
           "colorbar": {
            "outlinewidth": 0,
            "ticks": ""
           }
          },
          "colorscale": {
           "diverging": [
            [
             0,
             "#8e0152"
            ],
            [
             0.1,
             "#c51b7d"
            ],
            [
             0.2,
             "#de77ae"
            ],
            [
             0.3,
             "#f1b6da"
            ],
            [
             0.4,
             "#fde0ef"
            ],
            [
             0.5,
             "#f7f7f7"
            ],
            [
             0.6,
             "#e6f5d0"
            ],
            [
             0.7,
             "#b8e186"
            ],
            [
             0.8,
             "#7fbc41"
            ],
            [
             0.9,
             "#4d9221"
            ],
            [
             1,
             "#276419"
            ]
           ],
           "sequential": [
            [
             0,
             "#0d0887"
            ],
            [
             0.1111111111111111,
             "#46039f"
            ],
            [
             0.2222222222222222,
             "#7201a8"
            ],
            [
             0.3333333333333333,
             "#9c179e"
            ],
            [
             0.4444444444444444,
             "#bd3786"
            ],
            [
             0.5555555555555556,
             "#d8576b"
            ],
            [
             0.6666666666666666,
             "#ed7953"
            ],
            [
             0.7777777777777778,
             "#fb9f3a"
            ],
            [
             0.8888888888888888,
             "#fdca26"
            ],
            [
             1,
             "#f0f921"
            ]
           ],
           "sequentialminus": [
            [
             0,
             "#0d0887"
            ],
            [
             0.1111111111111111,
             "#46039f"
            ],
            [
             0.2222222222222222,
             "#7201a8"
            ],
            [
             0.3333333333333333,
             "#9c179e"
            ],
            [
             0.4444444444444444,
             "#bd3786"
            ],
            [
             0.5555555555555556,
             "#d8576b"
            ],
            [
             0.6666666666666666,
             "#ed7953"
            ],
            [
             0.7777777777777778,
             "#fb9f3a"
            ],
            [
             0.8888888888888888,
             "#fdca26"
            ],
            [
             1,
             "#f0f921"
            ]
           ]
          },
          "colorway": [
           "#636efa",
           "#EF553B",
           "#00cc96",
           "#ab63fa",
           "#FFA15A",
           "#19d3f3",
           "#FF6692",
           "#B6E880",
           "#FF97FF",
           "#FECB52"
          ],
          "font": {
           "color": "#2a3f5f"
          },
          "geo": {
           "bgcolor": "white",
           "lakecolor": "white",
           "landcolor": "#E5ECF6",
           "showlakes": true,
           "showland": true,
           "subunitcolor": "white"
          },
          "hoverlabel": {
           "align": "left"
          },
          "hovermode": "closest",
          "mapbox": {
           "style": "light"
          },
          "paper_bgcolor": "white",
          "plot_bgcolor": "#E5ECF6",
          "polar": {
           "angularaxis": {
            "gridcolor": "white",
            "linecolor": "white",
            "ticks": ""
           },
           "bgcolor": "#E5ECF6",
           "radialaxis": {
            "gridcolor": "white",
            "linecolor": "white",
            "ticks": ""
           }
          },
          "scene": {
           "xaxis": {
            "backgroundcolor": "#E5ECF6",
            "gridcolor": "white",
            "gridwidth": 2,
            "linecolor": "white",
            "showbackground": true,
            "ticks": "",
            "zerolinecolor": "white"
           },
           "yaxis": {
            "backgroundcolor": "#E5ECF6",
            "gridcolor": "white",
            "gridwidth": 2,
            "linecolor": "white",
            "showbackground": true,
            "ticks": "",
            "zerolinecolor": "white"
           },
           "zaxis": {
            "backgroundcolor": "#E5ECF6",
            "gridcolor": "white",
            "gridwidth": 2,
            "linecolor": "white",
            "showbackground": true,
            "ticks": "",
            "zerolinecolor": "white"
           }
          },
          "shapedefaults": {
           "line": {
            "color": "#2a3f5f"
           }
          },
          "ternary": {
           "aaxis": {
            "gridcolor": "white",
            "linecolor": "white",
            "ticks": ""
           },
           "baxis": {
            "gridcolor": "white",
            "linecolor": "white",
            "ticks": ""
           },
           "bgcolor": "#E5ECF6",
           "caxis": {
            "gridcolor": "white",
            "linecolor": "white",
            "ticks": ""
           }
          },
          "title": {
           "x": 0.05
          },
          "xaxis": {
           "automargin": true,
           "gridcolor": "white",
           "linecolor": "white",
           "ticks": "",
           "title": {
            "standoff": 15
           },
           "zerolinecolor": "white",
           "zerolinewidth": 2
          },
          "yaxis": {
           "automargin": true,
           "gridcolor": "white",
           "linecolor": "white",
           "ticks": "",
           "title": {
            "standoff": 15
           },
           "zerolinecolor": "white",
           "zerolinewidth": 2
          }
         }
        }
       }
      },
      "text/html": [
       "<div>                            <div id=\"3185f531-14d9-4a13-bdfc-49b62f7c7d08\" class=\"plotly-graph-div\" style=\"height:525px; width:100%;\"></div>            <script type=\"text/javascript\">                require([\"plotly\"], function(Plotly) {                    window.PLOTLYENV=window.PLOTLYENV || {};                                    if (document.getElementById(\"3185f531-14d9-4a13-bdfc-49b62f7c7d08\")) {                    Plotly.newPlot(                        \"3185f531-14d9-4a13-bdfc-49b62f7c7d08\",                        [{\"x\":[\"2020-09-07\",\"2020-09-14\",\"2020-09-21\",\"2020-09-28\",\"2020-10-05\",\"2020-10-12\",\"2020-10-19\",\"2020-10-26\",\"2020-11-02\",\"2020-11-09\",\"2020-11-16\",\"2020-11-23\",\"2020-11-30\",\"2020-12-07\",\"2020-12-14\",\"2020-12-21\",\"2020-12-28\",\"2021-01-04\",\"2021-01-11\",\"2021-01-18\",\"2021-01-25\",\"2021-02-01\",\"2021-02-08\",\"2021-02-15\",\"2021-02-22\",\"2021-03-01\",\"2021-03-08\",\"2021-03-15\",\"2021-03-22\",\"2021-03-29\",\"2021-04-05\",\"2021-04-12\",\"2021-04-19\",\"2021-04-26\",\"2021-05-03\",\"2021-05-10\",\"2021-05-17\",\"2021-05-24\",\"2021-05-31\",\"2021-06-07\",\"2021-06-14\",\"2021-06-21\",\"2021-06-28\",\"2021-07-05\",\"2021-07-12\",\"2021-07-19\",\"2021-07-26\",\"2021-08-02\",\"2021-08-09\",\"2021-08-16\",\"2021-08-23\",\"2021-08-30\",\"2021-09-06\",\"2021-09-13\",\"2021-09-20\",\"2021-09-27\",\"2021-10-04\",\"2021-10-11\",\"2021-10-18\",\"2021-10-25\",\"2021-11-01\",\"2021-11-08\",\"2021-11-15\",\"2021-11-22\",\"2021-11-29\",\"2021-12-06\",\"2021-12-13\",\"2021-12-20\",\"2021-12-27\",\"2022-01-03\",\"2022-01-10\",\"2022-01-17\",\"2022-01-24\",\"2022-01-31\",\"2022-02-07\",\"2022-02-14\",\"2022-02-21\",\"2022-02-28\",\"2022-03-07\",\"2022-03-14\",\"2022-03-21\",\"2022-03-28\",\"2022-04-04\",\"2022-04-11\",\"2022-04-18\",\"2022-04-25\",\"2022-05-02\",\"2022-05-09\",\"2022-05-16\",\"2022-05-23\",\"2022-05-30\",\"2022-06-06\",\"2022-06-13\",\"2022-06-20\",\"2022-06-27\",\"2022-07-04\",\"2022-07-11\",\"2022-07-18\",\"2022-07-25\",\"2022-08-01\",\"2022-08-08\",\"2022-08-15\",\"2022-08-22\",\"2022-08-29\",\"2022-09-05\",\"2022-09-12\",\"2022-09-19\",\"2022-09-26\",\"2022-10-03\",\"2022-10-10\",\"2022-10-17\",\"2022-10-24\",\"2022-10-31\",\"2022-11-07\",\"2022-11-14\",\"2022-11-21\"],\"y\":[1977,2747,2129,2759,4670,3005,2666,2552,3370,2108,2332,2389,2334,2685,1858,2332,2153,3092,3602,2115,1809,2481,3519,2711,3583,2791,2522,2366,3196,2080,2734,2833,2198,2704,5078,2671,4419,3664,3626,2616,2688,3170,2979,2295,2182,2625,3222,2400,3173,2581,2134,2639,3529,2262,1958,2716,2074,3804,2336,2944,2783,2926,1763,3021,4135,2582,3432,2424,2423,2490,1711,3750,3869,2487,2761,2465,2635,2981,2839,2342,2089,2994,4106,3937,2176,2225,1838,4659,2791,2526,4184,1863,3696,3684,3476,2989,2288,3914,2642,2950,3092,2565,3149,2695,4325,2271,2552,3334,3134,3072,2948,2577,2501,5773,6404,295],\"type\":\"bar\"}],                        {\"template\":{\"data\":{\"barpolar\":[{\"marker\":{\"line\":{\"color\":\"#E5ECF6\",\"width\":0.5},\"pattern\":{\"fillmode\":\"overlay\",\"size\":10,\"solidity\":0.2}},\"type\":\"barpolar\"}],\"bar\":[{\"error_x\":{\"color\":\"#2a3f5f\"},\"error_y\":{\"color\":\"#2a3f5f\"},\"marker\":{\"line\":{\"color\":\"#E5ECF6\",\"width\":0.5},\"pattern\":{\"fillmode\":\"overlay\",\"size\":10,\"solidity\":0.2}},\"type\":\"bar\"}],\"carpet\":[{\"aaxis\":{\"endlinecolor\":\"#2a3f5f\",\"gridcolor\":\"white\",\"linecolor\":\"white\",\"minorgridcolor\":\"white\",\"startlinecolor\":\"#2a3f5f\"},\"baxis\":{\"endlinecolor\":\"#2a3f5f\",\"gridcolor\":\"white\",\"linecolor\":\"white\",\"minorgridcolor\":\"white\",\"startlinecolor\":\"#2a3f5f\"},\"type\":\"carpet\"}],\"choropleth\":[{\"colorbar\":{\"outlinewidth\":0,\"ticks\":\"\"},\"type\":\"choropleth\"}],\"contourcarpet\":[{\"colorbar\":{\"outlinewidth\":0,\"ticks\":\"\"},\"type\":\"contourcarpet\"}],\"contour\":[{\"colorbar\":{\"outlinewidth\":0,\"ticks\":\"\"},\"colorscale\":[[0.0,\"#0d0887\"],[0.1111111111111111,\"#46039f\"],[0.2222222222222222,\"#7201a8\"],[0.3333333333333333,\"#9c179e\"],[0.4444444444444444,\"#bd3786\"],[0.5555555555555556,\"#d8576b\"],[0.6666666666666666,\"#ed7953\"],[0.7777777777777778,\"#fb9f3a\"],[0.8888888888888888,\"#fdca26\"],[1.0,\"#f0f921\"]],\"type\":\"contour\"}],\"heatmapgl\":[{\"colorbar\":{\"outlinewidth\":0,\"ticks\":\"\"},\"colorscale\":[[0.0,\"#0d0887\"],[0.1111111111111111,\"#46039f\"],[0.2222222222222222,\"#7201a8\"],[0.3333333333333333,\"#9c179e\"],[0.4444444444444444,\"#bd3786\"],[0.5555555555555556,\"#d8576b\"],[0.6666666666666666,\"#ed7953\"],[0.7777777777777778,\"#fb9f3a\"],[0.8888888888888888,\"#fdca26\"],[1.0,\"#f0f921\"]],\"type\":\"heatmapgl\"}],\"heatmap\":[{\"colorbar\":{\"outlinewidth\":0,\"ticks\":\"\"},\"colorscale\":[[0.0,\"#0d0887\"],[0.1111111111111111,\"#46039f\"],[0.2222222222222222,\"#7201a8\"],[0.3333333333333333,\"#9c179e\"],[0.4444444444444444,\"#bd3786\"],[0.5555555555555556,\"#d8576b\"],[0.6666666666666666,\"#ed7953\"],[0.7777777777777778,\"#fb9f3a\"],[0.8888888888888888,\"#fdca26\"],[1.0,\"#f0f921\"]],\"type\":\"heatmap\"}],\"histogram2dcontour\":[{\"colorbar\":{\"outlinewidth\":0,\"ticks\":\"\"},\"colorscale\":[[0.0,\"#0d0887\"],[0.1111111111111111,\"#46039f\"],[0.2222222222222222,\"#7201a8\"],[0.3333333333333333,\"#9c179e\"],[0.4444444444444444,\"#bd3786\"],[0.5555555555555556,\"#d8576b\"],[0.6666666666666666,\"#ed7953\"],[0.7777777777777778,\"#fb9f3a\"],[0.8888888888888888,\"#fdca26\"],[1.0,\"#f0f921\"]],\"type\":\"histogram2dcontour\"}],\"histogram2d\":[{\"colorbar\":{\"outlinewidth\":0,\"ticks\":\"\"},\"colorscale\":[[0.0,\"#0d0887\"],[0.1111111111111111,\"#46039f\"],[0.2222222222222222,\"#7201a8\"],[0.3333333333333333,\"#9c179e\"],[0.4444444444444444,\"#bd3786\"],[0.5555555555555556,\"#d8576b\"],[0.6666666666666666,\"#ed7953\"],[0.7777777777777778,\"#fb9f3a\"],[0.8888888888888888,\"#fdca26\"],[1.0,\"#f0f921\"]],\"type\":\"histogram2d\"}],\"histogram\":[{\"marker\":{\"pattern\":{\"fillmode\":\"overlay\",\"size\":10,\"solidity\":0.2}},\"type\":\"histogram\"}],\"mesh3d\":[{\"colorbar\":{\"outlinewidth\":0,\"ticks\":\"\"},\"type\":\"mesh3d\"}],\"parcoords\":[{\"line\":{\"colorbar\":{\"outlinewidth\":0,\"ticks\":\"\"}},\"type\":\"parcoords\"}],\"pie\":[{\"automargin\":true,\"type\":\"pie\"}],\"scatter3d\":[{\"line\":{\"colorbar\":{\"outlinewidth\":0,\"ticks\":\"\"}},\"marker\":{\"colorbar\":{\"outlinewidth\":0,\"ticks\":\"\"}},\"type\":\"scatter3d\"}],\"scattercarpet\":[{\"marker\":{\"colorbar\":{\"outlinewidth\":0,\"ticks\":\"\"}},\"type\":\"scattercarpet\"}],\"scattergeo\":[{\"marker\":{\"colorbar\":{\"outlinewidth\":0,\"ticks\":\"\"}},\"type\":\"scattergeo\"}],\"scattergl\":[{\"marker\":{\"colorbar\":{\"outlinewidth\":0,\"ticks\":\"\"}},\"type\":\"scattergl\"}],\"scattermapbox\":[{\"marker\":{\"colorbar\":{\"outlinewidth\":0,\"ticks\":\"\"}},\"type\":\"scattermapbox\"}],\"scatterpolargl\":[{\"marker\":{\"colorbar\":{\"outlinewidth\":0,\"ticks\":\"\"}},\"type\":\"scatterpolargl\"}],\"scatterpolar\":[{\"marker\":{\"colorbar\":{\"outlinewidth\":0,\"ticks\":\"\"}},\"type\":\"scatterpolar\"}],\"scatter\":[{\"fillpattern\":{\"fillmode\":\"overlay\",\"size\":10,\"solidity\":0.2},\"type\":\"scatter\"}],\"scatterternary\":[{\"marker\":{\"colorbar\":{\"outlinewidth\":0,\"ticks\":\"\"}},\"type\":\"scatterternary\"}],\"surface\":[{\"colorbar\":{\"outlinewidth\":0,\"ticks\":\"\"},\"colorscale\":[[0.0,\"#0d0887\"],[0.1111111111111111,\"#46039f\"],[0.2222222222222222,\"#7201a8\"],[0.3333333333333333,\"#9c179e\"],[0.4444444444444444,\"#bd3786\"],[0.5555555555555556,\"#d8576b\"],[0.6666666666666666,\"#ed7953\"],[0.7777777777777778,\"#fb9f3a\"],[0.8888888888888888,\"#fdca26\"],[1.0,\"#f0f921\"]],\"type\":\"surface\"}],\"table\":[{\"cells\":{\"fill\":{\"color\":\"#EBF0F8\"},\"line\":{\"color\":\"white\"}},\"header\":{\"fill\":{\"color\":\"#C8D4E3\"},\"line\":{\"color\":\"white\"}},\"type\":\"table\"}]},\"layout\":{\"annotationdefaults\":{\"arrowcolor\":\"#2a3f5f\",\"arrowhead\":0,\"arrowwidth\":1},\"autotypenumbers\":\"strict\",\"coloraxis\":{\"colorbar\":{\"outlinewidth\":0,\"ticks\":\"\"}},\"colorscale\":{\"diverging\":[[0,\"#8e0152\"],[0.1,\"#c51b7d\"],[0.2,\"#de77ae\"],[0.3,\"#f1b6da\"],[0.4,\"#fde0ef\"],[0.5,\"#f7f7f7\"],[0.6,\"#e6f5d0\"],[0.7,\"#b8e186\"],[0.8,\"#7fbc41\"],[0.9,\"#4d9221\"],[1,\"#276419\"]],\"sequential\":[[0.0,\"#0d0887\"],[0.1111111111111111,\"#46039f\"],[0.2222222222222222,\"#7201a8\"],[0.3333333333333333,\"#9c179e\"],[0.4444444444444444,\"#bd3786\"],[0.5555555555555556,\"#d8576b\"],[0.6666666666666666,\"#ed7953\"],[0.7777777777777778,\"#fb9f3a\"],[0.8888888888888888,\"#fdca26\"],[1.0,\"#f0f921\"]],\"sequentialminus\":[[0.0,\"#0d0887\"],[0.1111111111111111,\"#46039f\"],[0.2222222222222222,\"#7201a8\"],[0.3333333333333333,\"#9c179e\"],[0.4444444444444444,\"#bd3786\"],[0.5555555555555556,\"#d8576b\"],[0.6666666666666666,\"#ed7953\"],[0.7777777777777778,\"#fb9f3a\"],[0.8888888888888888,\"#fdca26\"],[1.0,\"#f0f921\"]]},\"colorway\":[\"#636efa\",\"#EF553B\",\"#00cc96\",\"#ab63fa\",\"#FFA15A\",\"#19d3f3\",\"#FF6692\",\"#B6E880\",\"#FF97FF\",\"#FECB52\"],\"font\":{\"color\":\"#2a3f5f\"},\"geo\":{\"bgcolor\":\"white\",\"lakecolor\":\"white\",\"landcolor\":\"#E5ECF6\",\"showlakes\":true,\"showland\":true,\"subunitcolor\":\"white\"},\"hoverlabel\":{\"align\":\"left\"},\"hovermode\":\"closest\",\"mapbox\":{\"style\":\"light\"},\"paper_bgcolor\":\"white\",\"plot_bgcolor\":\"#E5ECF6\",\"polar\":{\"angularaxis\":{\"gridcolor\":\"white\",\"linecolor\":\"white\",\"ticks\":\"\"},\"bgcolor\":\"#E5ECF6\",\"radialaxis\":{\"gridcolor\":\"white\",\"linecolor\":\"white\",\"ticks\":\"\"}},\"scene\":{\"xaxis\":{\"backgroundcolor\":\"#E5ECF6\",\"gridcolor\":\"white\",\"gridwidth\":2,\"linecolor\":\"white\",\"showbackground\":true,\"ticks\":\"\",\"zerolinecolor\":\"white\"},\"yaxis\":{\"backgroundcolor\":\"#E5ECF6\",\"gridcolor\":\"white\",\"gridwidth\":2,\"linecolor\":\"white\",\"showbackground\":true,\"ticks\":\"\",\"zerolinecolor\":\"white\"},\"zaxis\":{\"backgroundcolor\":\"#E5ECF6\",\"gridcolor\":\"white\",\"gridwidth\":2,\"linecolor\":\"white\",\"showbackground\":true,\"ticks\":\"\",\"zerolinecolor\":\"white\"}},\"shapedefaults\":{\"line\":{\"color\":\"#2a3f5f\"}},\"ternary\":{\"aaxis\":{\"gridcolor\":\"white\",\"linecolor\":\"white\",\"ticks\":\"\"},\"baxis\":{\"gridcolor\":\"white\",\"linecolor\":\"white\",\"ticks\":\"\"},\"bgcolor\":\"#E5ECF6\",\"caxis\":{\"gridcolor\":\"white\",\"linecolor\":\"white\",\"ticks\":\"\"}},\"title\":{\"x\":0.05},\"xaxis\":{\"automargin\":true,\"gridcolor\":\"white\",\"linecolor\":\"white\",\"ticks\":\"\",\"title\":{\"standoff\":15},\"zerolinecolor\":\"white\",\"zerolinewidth\":2},\"yaxis\":{\"automargin\":true,\"gridcolor\":\"white\",\"linecolor\":\"white\",\"ticks\":\"\",\"title\":{\"standoff\":15},\"zerolinecolor\":\"white\",\"zerolinewidth\":2}}}},                        {\"responsive\": true}                    ).then(function(){\n",
       "                            \n",
       "var gd = document.getElementById('3185f531-14d9-4a13-bdfc-49b62f7c7d08');\n",
       "var x = new MutationObserver(function (mutations, observer) {{\n",
       "        var display = window.getComputedStyle(gd).display;\n",
       "        if (!display || display === 'none') {{\n",
       "            console.log([gd, 'removed!']);\n",
       "            Plotly.purge(gd);\n",
       "            observer.disconnect();\n",
       "        }}\n",
       "}});\n",
       "\n",
       "// Listen for the removal of the full notebook cells\n",
       "var notebookContainer = gd.closest('#notebook-container');\n",
       "if (notebookContainer) {{\n",
       "    x.observe(notebookContainer, {childList: true});\n",
       "}}\n",
       "\n",
       "// Listen for the clearing of the current output cell\n",
       "var outputEl = gd.closest('.output');\n",
       "if (outputEl) {{\n",
       "    x.observe(outputEl, {childList: true});\n",
       "}}\n",
       "\n",
       "                        })                };                });            </script>        </div>"
      ]
     },
     "metadata": {},
     "output_type": "display_data"
    }
   ],
   "source": [
    "from plotly.offline import init_notebook_mode, iplot\n",
    "import plotly.graph_objects as go\n",
    "\n",
    "if not df.empty:\n",
    "    agg_dict = {\n",
    "        'timestamp': 'first',\n",
    "        'transactionCount': 'sum'\n",
    "    }\n",
    "    df['timestamp'] = pd.to_timedelta(df['timestamp'], 'ms')\n",
    "    df = df.set_index(df['timestamp']).resample('7d', label='left', closed='left').agg(agg_dict)\n",
    "    df['date'] = pd.to_datetime(df['timestamp'], unit='ns').dt.strftime('%Y-%m-%d')\n",
    "\n",
    "    init_notebook_mode(connected=True)\n",
    "    data = [go.Bar(x=df.date, y=df.transactionCount)]\n",
    "    iplot(data, filename='jupyter-basic_bar')"
   ]
  },
  {
   "cell_type": "markdown",
   "id": "8d4ffbbe",
   "metadata": {},
   "source": [
    "## Conclusion\n",
    "\n",
    "#### Building an accurate overview of the current and historical state of blockchains is a hard task. Generally, there is a difficulty of understanding and accessing blockchain metrics. Currently, users without programming skills depend on blockchain explorers to have access to these metrics, but with a limited and static experience. Even with a search engine like blockedge with some syntatic sugar to research blockchain metrics, users still need programming skills to build their overviews. It is key to the blockchain community a system to ease how users specify their queries and to assist users to create, visualize, and share blockchain analytics in the form of informative artifacts."
   ]
  }
 ],
 "metadata": {
  "kernelspec": {
   "display_name": "Python 3 (ipykernel)",
   "language": "python",
   "name": "python3"
  },
  "language_info": {
   "codemirror_mode": {
    "name": "ipython",
    "version": 3
   },
   "file_extension": ".py",
   "mimetype": "text/x-python",
   "name": "python",
   "nbconvert_exporter": "python",
   "pygments_lexer": "ipython3",
   "version": "3.10.8"
  }
 },
 "nbformat": 4,
 "nbformat_minor": 5
}
